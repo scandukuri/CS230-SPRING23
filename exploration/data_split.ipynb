{
 "cells": [
  {
   "attachments": {},
   "cell_type": "markdown",
   "metadata": {},
   "source": [
    "In this notebook, we filter the dataset to only keep rows with English lyrics and output the train, test, dev splits of data to the data/processed/ directory."
   ]
  },
  {
   "cell_type": "code",
   "execution_count": 1,
   "metadata": {},
   "outputs": [],
   "source": [
    "import pandas as pd\n",
    "import numpy as np\n",
    "import os\n",
    "import pickle as pkl\n",
    "\n",
    "os.chdir('/Users/scandukuri/CS230-SPRING23/')\n",
    "filepath = 'data/raw/song_lyrics.csv'\n",
    "\n",
    "lyric_head = pd.read_csv(filepath)\n",
    "lyric_head = lyric_head[lyric_head['language'] == 'en']"
   ]
  },
  {
   "cell_type": "code",
   "execution_count": 2,
   "metadata": {},
   "outputs": [
    {
     "data": {
      "text/plain": [
       "(3374198, 11)"
      ]
     },
     "execution_count": 2,
     "metadata": {},
     "output_type": "execute_result"
    }
   ],
   "source": [
    "lyric_head.shape"
   ]
  },
  {
   "cell_type": "code",
   "execution_count": 3,
   "metadata": {},
   "outputs": [],
   "source": [
    "train, test, dev = \\\n",
    "              np.split(lyric_head.sample(frac=1, random_state=42), \n",
    "                       [int(.99*len(lyric_head)), int(.995*len(lyric_head))])"
   ]
  },
  {
   "cell_type": "code",
   "execution_count": 4,
   "metadata": {},
   "outputs": [
    {
     "name": "stdout",
     "output_type": "stream",
     "text": [
      "[(3340456, 11), (16871, 11), (16871, 11)]\n"
     ]
    }
   ],
   "source": [
    "print([df.shape for df in [train, test, dev]])"
   ]
  },
  {
   "cell_type": "code",
   "execution_count": 17,
   "metadata": {},
   "outputs": [],
   "source": [
    "train.to_csv('data/processed/train.csv', header=True, index=False)\n",
    "test.to_csv('data/processed/test.csv', header=True, index=False)\n",
    "dev.to_csv('data/processed/dev.csv', header=True, index=False)"
   ]
  }
 ],
 "metadata": {
  "kernelspec": {
   "display_name": "env",
   "language": "python",
   "name": "python3"
  },
  "language_info": {
   "codemirror_mode": {
    "name": "ipython",
    "version": 3
   },
   "file_extension": ".py",
   "mimetype": "text/x-python",
   "name": "python",
   "nbconvert_exporter": "python",
   "pygments_lexer": "ipython3",
   "version": "3.10.11"
  },
  "orig_nbformat": 4
 },
 "nbformat": 4,
 "nbformat_minor": 2
}
